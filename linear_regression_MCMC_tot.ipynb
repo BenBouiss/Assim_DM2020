{
 "cells": [
  {
   "cell_type": "code",
   "execution_count": 1,
   "metadata": {},
   "outputs": [],
   "source": [
    "%load_ext autoreload\n",
    "%autoreload 2\n",
    "\n",
    "import numpy as np\n",
    "import matplotlib.pyplot as plt\n",
    "from scipy.optimize import minimize\n",
    "import linearRegression_1\n",
    "import math\n",
    "import random\n",
    "\n",
    "from mcmc import mcmc\n",
    "import densities\n",
    "import my_problemLR\n",
    "\n",
    "%matplotlib notebook\n"
   ]
  },
  {
   "cell_type": "markdown",
   "metadata": {},
   "source": [
    "### LEAST SQUARED METHOD "
   ]
  },
  {
   "cell_type": "code",
   "execution_count": 2,
   "metadata": {},
   "outputs": [],
   "source": [
    "# create artificial data\n",
    "n = 100\n",
    "x=np.random.rand(n)\n",
    "# We want to guess the slope + intercept of the line of equation y=a*x+b\n",
    "a=2.\n",
    "b=1.\n",
    "y = a*x + b + np.random.randn(n)*0.1"
   ]
  },
  {
   "cell_type": "code",
   "execution_count": 3,
   "metadata": {},
   "outputs": [
    {
     "name": "stdout",
     "output_type": "stream",
     "text": [
      "-0.019125971793289138 -0.004740448186121352\n"
     ]
    }
   ],
   "source": [
    "x2 = np.array(list(x))\n",
    "y2 = np.array(list(y))\n",
    "# plt.figure()\n",
    "slopes = []\n",
    "intercepts = []\n",
    "\n",
    "iters = 1000\n",
    "\n",
    "for i in range(iters):\n",
    "    pop = np.random.randint(0,len(x) , size=math.ceil(len(x2)/10))\n",
    "    x3 = np.delete(x2, pop)\n",
    "    y3 = np.delete(y2, pop)\n",
    "    add = np.random.randint(0, len(x3), size = len(x2)-len(x3))\n",
    "    \n",
    "    x3 = np.append(x3, x3[add])\n",
    "    y3 = np.append(y3, y3[add])\n",
    "    \n",
    "    sol = minimize(fun=linearRegression_1.mycost,x0=np.array([10,10]),\n",
    "                   args=(x3,y3,2),method='Nelder-Mead')\n",
    "    \n",
    "    slopes.append(sol.x[0])\n",
    "    intercepts.append(sol.x[1])\n",
    "    \n",
    "    # plt.subplot(121)\n",
    "    # plt.hist(x3, color='black', alpha=0.1)\n",
    "    # plt.scatter(i, np.nanmean(x3))\n",
    "    # plt.subplot(122)\n",
    "    # plt.hist(y3, color='black', alpha=0.1)\n",
    "    # plt.scatter(i, np.nanmean(y3))\n",
    "\n",
    "print(np.mean(y3 - y),\n",
    "np.mean(x3 - x))\n",
    "#plt.figure()\n",
    "#plt.plot(x3,y3, '.')\n",
    "#plt.plot(x,y, '.')"
   ]
  },
  {
   "cell_type": "code",
   "execution_count": 4,
   "metadata": {},
   "outputs": [
    {
     "name": "stdout",
     "output_type": "stream",
     "text": [
      "Slope standard deviation: 0.014\n",
      "Intercept standard deviation: 0.008\n"
     ]
    },
    {
     "data": {
      "image/png": "[encoded data removed]",
      "text/plain": [
       "<Figure size 432x288 with 2 Axes>"
      ]
     },
     "metadata": {
      "needs_background": "light"
     },
     "output_type": "display_data"
    }
   ],
   "source": [
    "plt.figure()\n",
    "plt.subplot(121)\n",
    "plt.hist(slopes, bins=int(np.sqrt(iters)))\n",
    "plt.subplot(122)\n",
    "plt.hist(intercepts, bins=int(np.sqrt(iters)))\n",
    "\n",
    "print('Slope standard deviation: %.3f' % np.std(slopes))\n",
    "print('Intercept standard deviation: %.3f' % np.std(intercepts))"
   ]
  },
  {
   "cell_type": "markdown",
   "metadata": {},
   "source": [
    "### MCMC METHOD "
   ]
  },
  {
   "cell_type": "code",
   "execution_count": 5,
   "metadata": {},
   "outputs": [],
   "source": [
    "def MCMC(ind):\n",
    "    # parameters for the problem\n",
    "    Npoint = 100\n",
    "\n",
    "    # data abscissa {Xi}\n",
    "    my_problemLR.Xi = np.random.rand(Npoint)\n",
    "    my_problemLR.sigmad = 0.1 # sec\n",
    "\n",
    "    slope = 2.\n",
    "    intercept = 1.\n",
    "\n",
    "    #  Data value = {Yi}\n",
    "    my_problemLR.Yi = slope * my_problemLR.Xi + intercept + np.random.randn(Npoint) * my_problemLR.sigmad\n",
    "    X0 = np.array([10., 10.])\n",
    "    # set the step Dernier param : 'Gaus' ou autre\n",
    "    step = np.array([0.01, 0.01])# *2 or *5 or *10\n",
    "\n",
    "    niter = 100000\n",
    "\n",
    "\n",
    "    mout, mMAP, accrate = mcmc(my_problemLR.logprior, my_problemLR.loglikelyhood,\n",
    "                               densities.generate, densities.logproposal, X0, niter, step, ind)\n",
    "    x=mout[:,0]\n",
    "    y=mout[:,1]\n",
    "\n",
    "    burning_period = int(0.2*niter)\n",
    "    a = mout[burning_period:-1,0]\n",
    "    b = mout[burning_period:-1,1]\n",
    "\n",
    "    a=a[0:-1:200]\n",
    "    b=b[0:-1:200]\n",
    "    return a,b"
   ]
  },
  {
   "cell_type": "code",
   "execution_count": 6,
   "metadata": {},
   "outputs": [],
   "source": [
    "Tot = ['Gaus', 'Exp']\n",
    "t = []\n",
    "for i in Tot:\n",
    "    t.append(MCMC(i))"
   ]
  },
  {
   "cell_type": "code",
   "execution_count": 7,
   "metadata": {},
   "outputs": [],
   "source": [
    "ag, bg = t[0]\n",
    "ae, be = t[1]\n",
    "n = len(ae)"
   ]
  },
  {
   "cell_type": "code",
   "execution_count": 10,
   "metadata": {},
   "outputs": [
    {
     "name": "stdout",
     "output_type": "stream",
     "text": [
      "Slope standard deviation: 0.035  ,mean: 1.974\n",
      "Intercept standard deviation: 0.019  ,mean: 1.026\n"
     ]
    },
    {
     "data": {
      "image/png": "[encoded data removed]",
      "text/plain": [
       "<Figure size 432x288 with 2 Axes>"
      ]
     },
     "metadata": {
      "needs_background": "light"
     },
     "output_type": "display_data"
    }
   ],
   "source": [
    "plt.figure()\n",
    "plt.subplot(121)\n",
    "plt.hist(ag, bins=int(np.sqrt(n)))\n",
    "plt.subplot(122)\n",
    "plt.hist(bg, bins=int(np.sqrt(n)))\n",
    "\n",
    "print('Slope standard deviation: %.3f' % np.std(ag), ' ,mean: %.3f'% np.mean(ag))\n",
    "print('Intercept standard deviation: %.3f' % np.std(bg), ' ,mean: %.3f'% np.mean(bg))"
   ]
  },
  {
   "cell_type": "code",
   "execution_count": 11,
   "metadata": {},
   "outputs": [
    {
     "name": "stdout",
     "output_type": "stream",
     "text": [
      "Slope standard deviation: 0.034  ,mean: 1.971\n",
      "Intercept standard deviation: 0.021  ,mean: 1.035\n"
     ]
    },
    {
     "data": {
      "image/png": "[encoded data removed]",
      "text/plain": [
       "<Figure size 432x288 with 2 Axes>"
      ]
     },
     "metadata": {
      "needs_background": "light"
     },
     "output_type": "display_data"
    }
   ],
   "source": [
    "plt.figure()\n",
    "plt.subplot(121)\n",
    "plt.hist(ae, bins=int(np.sqrt(n)))\n",
    "plt.subplot(122)\n",
    "plt.hist(be, bins=int(np.sqrt(n)))\n",
    "\n",
    "print('Slope standard deviation: %.3f' % np.std(ae), ' ,mean: %.3f'% np.mean(ae))\n",
    "print('Intercept standard deviation: %.3f' % np.std(be), ' ,mean: %.3f'% np.mean(be))"
   ]
  },
  {
   "cell_type": "code",
   "execution_count": 30,
   "metadata": {},
   "outputs": [],
   "source": [
    "SLOP = [slopes, ag, ae]\n",
    "INTER = [intercepts, bg, be]\n",
    "labels = ['Least square', 'Gaussian','Exponential']"
   ]
  },
  {
   "cell_type": "code",
   "execution_count": null,
   "metadata": {},
   "outputs": [],
   "source": []
  },
  {
   "cell_type": "code",
   "execution_count": 35,
   "metadata": {},
   "outputs": [
    {
     "data": {
      "image/png": "[encoded data removed]",
      "text/plain": [
       "<Figure size 864x432 with 2 Axes>"
      ]
     },
     "metadata": {
      "needs_background": "light"
     },
     "output_type": "display_data"
    }
   ],
   "source": [
    "fig, axes = plt.subplots(nrows=1, ncols=2, figsize=(12, 6))\n",
    "\n",
    "# rectangular box plot\n",
    "bplot1 = axes[0].boxplot(SLOP,\n",
    "                         vert=True,  \n",
    "                         patch_artist=True, \n",
    "                         labels=labels)  \n",
    "axes[0].set_title('Slopes obtained for various methods')\n",
    "\n",
    "\n",
    "bplot2 = axes[1].boxplot(INTER,\n",
    "                         vert=True, \n",
    "                         patch_artist=True,\n",
    "                         labels=labels) \n",
    "axes[1].set_title('Intercepts obtained for various methods')\n",
    "\n",
    "colors = ['pink', 'lightblue', 'lightgreen']\n",
    "for bplot in (bplot1, bplot2):\n",
    "    for patch, color in zip(bplot['boxes'], colors):\n",
    "        patch.set_facecolor(color)\n",
    "\n",
    "for ind,ax in enumerate(axes):\n",
    "    ax.yaxis.grid(True)\n",
    "    if ind == 0:\n",
    "        ax.set_xlabel('Slope')\n",
    "    else:\n",
    "        ax.set_xlabel('Intercept')\n",
    "    ax.set_ylabel('Methods')\n",
    "\n",
    "plt.show()"
   ]
  },
  {
   "cell_type": "code",
   "execution_count": null,
   "metadata": {},
   "outputs": [],
   "source": []
  }
 ],
 "metadata": {
  "kernelspec": {
   "display_name": "Python 3",
   "language": "python",
   "name": "python3"
  },
  "language_info": {
   "codemirror_mode": {
    "name": "ipython",
    "version": 3
   },
   "file_extension": ".py",
   "mimetype": "text/x-python",
   "name": "python",
   "nbconvert_exporter": "python",
   "pygments_lexer": "ipython3",
   "version": "3.7.4"
  }
 },
 "nbformat": 4,
 "nbformat_minor": 4
}
